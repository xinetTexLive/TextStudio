{
 "cells": [
  {
   "cell_type": "code",
   "execution_count": null,
   "metadata": {
    "collapsed": false
   },
   "outputs": [],
   "source": [
    "%matplotlib inline\n",
    "\n",
    "import matplotlib.pyplot as plt\n",
    "from mpl_toolkits.mplot3d import Axes3D\n",
    "from matplotlib.patches import Ellipse, Circle\n",
    "\n",
    "import numpy as np\n",
    "\n",
    "plt.rc('text', usetex=True)\n",
    "plt.rc('font', family='serif',size=16)\n",
    "\n",
    "gray   = \"#4D4D4D\"\n",
    "blue   = \"#5DA5DA\"\n",
    "orange = \"#FAA43A\"\n",
    "green  = \"#60BD68\"\n",
    "pink   = \"#F17CB0\"\n",
    "brown  = \"#B2912F\"\n",
    "purple = \"#B276B2\"\n",
    "yellow = \"#DECF3F\"\n",
    "red    = \"#F15854\"\n",
    "\n",
    "dataset = 'cifar10'\n",
    "N = 'semi'\n",
    "\n",
    "d = np.genfromtxt('result_' + dataset + '_' + N)\n",
    "\n",
    "labels = ['teacher','student']+['T='+str(int(t)) for t in np.unique(d[:,3])]\n",
    "\n",
    "m_student = np.mean(d[np.where(d[:,4]==0),5])\n",
    "m_teacher = np.mean(d[:,2])\n",
    "#plt.ylim([0.4,0.9])\n",
    "legends = []\n",
    "legends.append(plt.plot(np.arange(0,1.1,.1),np.repeat(m_teacher,11), linewidth=3, c='black',linestyle='-.')[0])\n",
    "legends.append(plt.plot(np.arange(0,1.1,.1),np.repeat(m_student,11), linewidth=3, c='black',linestyle='--')[0])\n",
    "\n",
    "for t in np.unique(d[:,3]):\n",
    "    this_t_x = d[np.where(d[:,3]==t),4]\n",
    "    this_t_y = d[np.where(d[:,3]==t),5]\n",
    "\n",
    "    this_t_l = np.unique(this_t_x)\n",
    "    this_t_e = np.zeros(len(this_t_l))\n",
    "    this_t_s = np.zeros(len(this_t_l))\n",
    "    for i in xrange(len(this_t_l)):\n",
    "        this_t_e[i] = np.mean(this_t_y[np.where(this_t_x==this_t_l[i])])\n",
    "        this_t_s[i] = np.var(this_t_y[np.where(this_t_x==this_t_l[i])])\n",
    "    legends.append(plt.errorbar(this_t_l,this_t_e,linewidth=2)[0])\n",
    "\n",
    "plt.xlabel('imitation parameter $\\lambda$')\n",
    "plt.ylabel('mean squared error')\n",
    "plt.legend(legends,labels,ncol=3,prop={'size':14},loc=4)#bbox_to_anchor=(1, 0.9))\n",
    "plt.savefig('distillation_'  + dataset + '_' + N + '.pdf', bbox_inches='tight')\n",
    "plt.show()"
   ]
  }
 ],
 "metadata": {
  "kernelspec": {
   "display_name": "Python 2",
   "language": "python",
   "name": "python2"
  },
  "language_info": {
   "codemirror_mode": {
    "name": "ipython",
    "version": 2
   },
   "file_extension": ".py",
   "mimetype": "text/x-python",
   "name": "python",
   "nbconvert_exporter": "python",
   "pygments_lexer": "ipython2",
   "version": "2.7.11"
  }
 },
 "nbformat": 4,
 "nbformat_minor": 0
}
