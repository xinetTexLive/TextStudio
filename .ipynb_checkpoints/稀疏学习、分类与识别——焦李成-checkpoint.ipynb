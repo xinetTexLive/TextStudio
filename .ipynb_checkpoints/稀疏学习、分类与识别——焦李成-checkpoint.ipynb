{
 "cells": [
  {
   "cell_type": "markdown",
   "metadata": {},
   "source": [
    "常用的八大机器学习算法：\n",
    "- 决策树算法\n",
    "- 随机森林算法\n",
    "- 人工神经网络算法\n",
    "- 支持向量机算法\n",
    "- Boosting 与 Bagging算法\n",
    "- 关联规则算法\n",
    "- 贝叶斯学习算法\n",
    "- EM 算法\n",
    "\n",
    "# [压缩感知与稀疏表示](http://onlinelibrary.wiley.com/doi/10.1002/cpa.20124/full)\n",
    "\n",
    "## [转导推理——Transductive Learning](http://www.cnblogs.com/siegfang/p/3424003.html)\n",
    "\n",
    "## [Topic: compressed-sensing · GitHub](https://github.com/topics/compressed-sensing)\n",
    "   - [lpdec: library for LP decoding and related things](https://github.com/supermihi/lpdec)\n",
    "\n",
    "## [低秩与Manifold](https://www.ece.rice.edu/~duarte/images/JointManifold-TIP09.pdf)\n",
    "## 图形逆问题的应用\n",
    "   [burakcorekci/ImageDenoisingKSVD ](https://github.com/burakcorekci/ImageDenoisingKSVD)\n",
    "   - https://github.com/Deepayan137/K-svd\n",
    "   - https://github.com/heartyguy/ml-image-denoising\n",
    "   \n",
    "## [Random projection](https://github.com/search?l=Jupyter+Notebook&q=Random+projection&type=Repositories&utf8=%E2%9C%93)\n",
    "\n",
    "# [子空间分割](http://ieeexplore.ieee.org/document/5714408/?arnumber=5714408)"
   ]
  },
  {
   "cell_type": "markdown",
   "metadata": {},
   "source": [
    "# [谱聚类指南](https://rd.springer.com/content/pdf/10.1007%2Fs11222-007-9033-z.pdf)"
   ]
  },
  {
   "cell_type": "code",
   "execution_count": null,
   "metadata": {},
   "outputs": [],
   "source": []
  }
 ],
 "metadata": {
  "kernelspec": {
   "display_name": "Python 3",
   "language": "python",
   "name": "python3"
  },
  "language_info": {
   "codemirror_mode": {
    "name": "ipython",
    "version": 3
   },
   "file_extension": ".py",
   "mimetype": "text/x-python",
   "name": "python",
   "nbconvert_exporter": "python",
   "pygments_lexer": "ipython3",
   "version": "3.6.3"
  },
  "toc": {
   "nav_menu": {},
   "number_sections": true,
   "sideBar": true,
   "skip_h1_title": false,
   "title_cell": "Table of Contents",
   "title_sidebar": "Contents",
   "toc_cell": false,
   "toc_position": {},
   "toc_section_display": true,
   "toc_window_display": false
  },
  "varInspector": {
   "cols": {
    "lenName": 16,
    "lenType": 16,
    "lenVar": 40
   },
   "kernels_config": {
    "python": {
     "delete_cmd_postfix": "",
     "delete_cmd_prefix": "del ",
     "library": "var_list.py",
     "varRefreshCmd": "print(var_dic_list())"
    },
    "r": {
     "delete_cmd_postfix": ") ",
     "delete_cmd_prefix": "rm(",
     "library": "var_list.r",
     "varRefreshCmd": "cat(var_dic_list()) "
    }
   },
   "types_to_exclude": [
    "module",
    "function",
    "builtin_function_or_method",
    "instance",
    "_Feature"
   ],
   "window_display": false
  }
 },
 "nbformat": 4,
 "nbformat_minor": 2
}
